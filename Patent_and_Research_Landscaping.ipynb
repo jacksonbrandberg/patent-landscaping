{
  "nbformat": 4,
  "nbformat_minor": 0,
  "metadata": {
    "colab": {
      "provenance": []
    },
    "kernelspec": {
      "name": "python3",
      "display_name": "Python 3"
    },
    "language_info": {
      "name": "python"
    },
    "widgets": {
      "application/vnd.jupyter.widget-state+json": {
        "bec37ec32899464a832f19f2752a2fc9": {
          "model_module": "@jupyter-widgets/controls",
          "model_name": "HBoxModel",
          "state": {
            "_view_name": "HBoxView",
            "_dom_classes": [],
            "_model_name": "HBoxModel",
            "_view_module": "@jupyter-widgets/controls",
            "_model_module_version": "1.5.0",
            "_view_count": null,
            "_view_module_version": "1.5.0",
            "box_style": "",
            "layout": "IPY_MODEL_50dd176d63cc4aba973a8ab516ca3a74",
            "_model_module": "@jupyter-widgets/controls",
            "children": [
              "IPY_MODEL_f00d6a8894bd4f2aa074ff1467b6591e",
              "IPY_MODEL_40cc0fd00ec144db83e0b8fa4b6a108b"
            ]
          },
          "model_module_version": "1.5.0"
        },
        "50dd176d63cc4aba973a8ab516ca3a74": {
          "model_module": "@jupyter-widgets/base",
          "model_name": "LayoutModel",
          "state": {
            "_view_name": "LayoutView",
            "grid_template_rows": null,
            "right": null,
            "justify_content": null,
            "_view_module": "@jupyter-widgets/base",
            "overflow": null,
            "_model_module_version": "1.2.0",
            "_view_count": null,
            "flex_flow": null,
            "width": null,
            "min_width": null,
            "border": null,
            "align_items": null,
            "bottom": null,
            "_model_module": "@jupyter-widgets/base",
            "top": null,
            "grid_column": null,
            "overflow_y": null,
            "overflow_x": null,
            "grid_auto_flow": null,
            "grid_area": null,
            "grid_template_columns": null,
            "flex": null,
            "_model_name": "LayoutModel",
            "justify_items": null,
            "grid_row": null,
            "max_height": null,
            "align_content": null,
            "visibility": null,
            "align_self": null,
            "height": null,
            "min_height": null,
            "padding": null,
            "grid_auto_rows": null,
            "grid_gap": null,
            "max_width": null,
            "order": null,
            "_view_module_version": "1.2.0",
            "grid_template_areas": null,
            "object_position": null,
            "object_fit": null,
            "grid_auto_columns": null,
            "margin": null,
            "display": null,
            "left": null
          },
          "model_module_version": "1.2.0"
        },
        "f00d6a8894bd4f2aa074ff1467b6591e": {
          "model_module": "@jupyter-widgets/controls",
          "model_name": "FloatProgressModel",
          "state": {
            "_view_name": "ProgressView",
            "style": "IPY_MODEL_9bc230bc5ea44fe48c8981ee7a658c35",
            "_dom_classes": [],
            "description": "Downloading: 100%",
            "_model_name": "FloatProgressModel",
            "bar_style": "success",
            "max": 391,
            "_view_module": "@jupyter-widgets/controls",
            "_model_module_version": "1.5.0",
            "value": 391,
            "_view_count": null,
            "_view_module_version": "1.5.0",
            "orientation": "horizontal",
            "min": 0,
            "description_tooltip": null,
            "_model_module": "@jupyter-widgets/controls",
            "layout": "IPY_MODEL_ea5fdef45fd945d7afe50fceed674566"
          },
          "model_module_version": "1.5.0"
        },
        "40cc0fd00ec144db83e0b8fa4b6a108b": {
          "model_module": "@jupyter-widgets/controls",
          "model_name": "HTMLModel",
          "state": {
            "_view_name": "HTMLView",
            "style": "IPY_MODEL_831b70d5f7424a8aa59afc5c7a02d391",
            "_dom_classes": [],
            "description": "",
            "_model_name": "HTMLModel",
            "placeholder": "​",
            "_view_module": "@jupyter-widgets/controls",
            "_model_module_version": "1.5.0",
            "value": " 391/391 [00:15&lt;00:00, 24.9B/s]",
            "_view_count": null,
            "_view_module_version": "1.5.0",
            "description_tooltip": null,
            "_model_module": "@jupyter-widgets/controls",
            "layout": "IPY_MODEL_a178f1e590cc48ae88cb8d84ff0c3dd6"
          },
          "model_module_version": "1.5.0"
        },
        "9bc230bc5ea44fe48c8981ee7a658c35": {
          "model_module": "@jupyter-widgets/controls",
          "model_name": "ProgressStyleModel",
          "state": {
            "_view_name": "StyleView",
            "_model_name": "ProgressStyleModel",
            "description_width": "initial",
            "_view_module": "@jupyter-widgets/base",
            "_model_module_version": "1.5.0",
            "_view_count": null,
            "_view_module_version": "1.2.0",
            "bar_color": null,
            "_model_module": "@jupyter-widgets/controls"
          },
          "model_module_version": "1.5.0"
        },
        "ea5fdef45fd945d7afe50fceed674566": {
          "model_module": "@jupyter-widgets/base",
          "model_name": "LayoutModel",
          "state": {
            "_view_name": "LayoutView",
            "grid_template_rows": null,
            "right": null,
            "justify_content": null,
            "_view_module": "@jupyter-widgets/base",
            "overflow": null,
            "_model_module_version": "1.2.0",
            "_view_count": null,
            "flex_flow": null,
            "width": null,
            "min_width": null,
            "border": null,
            "align_items": null,
            "bottom": null,
            "_model_module": "@jupyter-widgets/base",
            "top": null,
            "grid_column": null,
            "overflow_y": null,
            "overflow_x": null,
            "grid_auto_flow": null,
            "grid_area": null,
            "grid_template_columns": null,
            "flex": null,
            "_model_name": "LayoutModel",
            "justify_items": null,
            "grid_row": null,
            "max_height": null,
            "align_content": null,
            "visibility": null,
            "align_self": null,
            "height": null,
            "min_height": null,
            "padding": null,
            "grid_auto_rows": null,
            "grid_gap": null,
            "max_width": null,
            "order": null,
            "_view_module_version": "1.2.0",
            "grid_template_areas": null,
            "object_position": null,
            "object_fit": null,
            "grid_auto_columns": null,
            "margin": null,
            "display": null,
            "left": null
          },
          "model_module_version": "1.2.0"
        },
        "831b70d5f7424a8aa59afc5c7a02d391": {
          "model_module": "@jupyter-widgets/controls",
          "model_name": "DescriptionStyleModel",
          "state": {
            "_view_name": "StyleView",
            "_model_name": "DescriptionStyleModel",
            "description_width": "",
            "_view_module": "@jupyter-widgets/base",
            "_model_module_version": "1.5.0",
            "_view_count": null,
            "_view_module_version": "1.2.0",
            "_model_module": "@jupyter-widgets/controls"
          },
          "model_module_version": "1.5.0"
        },
        "a178f1e590cc48ae88cb8d84ff0c3dd6": {
          "model_module": "@jupyter-widgets/base",
          "model_name": "LayoutModel",
          "state": {
            "_view_name": "LayoutView",
            "grid_template_rows": null,
            "right": null,
            "justify_content": null,
            "_view_module": "@jupyter-widgets/base",
            "overflow": null,
            "_model_module_version": "1.2.0",
            "_view_count": null,
            "flex_flow": null,
            "width": null,
            "min_width": null,
            "border": null,
            "align_items": null,
            "bottom": null,
            "_model_module": "@jupyter-widgets/base",
            "top": null,
            "grid_column": null,
            "overflow_y": null,
            "overflow_x": null,
            "grid_auto_flow": null,
            "grid_area": null,
            "grid_template_columns": null,
            "flex": null,
            "_model_name": "LayoutModel",
            "justify_items": null,
            "grid_row": null,
            "max_height": null,
            "align_content": null,
            "visibility": null,
            "align_self": null,
            "height": null,
            "min_height": null,
            "padding": null,
            "grid_auto_rows": null,
            "grid_gap": null,
            "max_width": null,
            "order": null,
            "_view_module_version": "1.2.0",
            "grid_template_areas": null,
            "object_position": null,
            "object_fit": null,
            "grid_auto_columns": null,
            "margin": null,
            "display": null,
            "left": null
          },
          "model_module_version": "1.2.0"
        },
        "3bf4014a1dcc45998f8be7efaf49636b": {
          "model_module": "@jupyter-widgets/controls",
          "model_name": "HBoxModel",
          "state": {
            "_view_name": "HBoxView",
            "_dom_classes": [],
            "_model_name": "HBoxModel",
            "_view_module": "@jupyter-widgets/controls",
            "_model_module_version": "1.5.0",
            "_view_count": null,
            "_view_module_version": "1.5.0",
            "box_style": "",
            "layout": "IPY_MODEL_7762ba6a8fc040e9bdaa10bfff4d642a",
            "_model_module": "@jupyter-widgets/controls",
            "children": [
              "IPY_MODEL_75cdd55db2d94e3dbd1acf312ed1addd",
              "IPY_MODEL_7cd8be2ea1ae46f195856bffc09480c3"
            ]
          },
          "model_module_version": "1.5.0"
        },
        "7762ba6a8fc040e9bdaa10bfff4d642a": {
          "model_module": "@jupyter-widgets/base",
          "model_name": "LayoutModel",
          "state": {
            "_view_name": "LayoutView",
            "grid_template_rows": null,
            "right": null,
            "justify_content": null,
            "_view_module": "@jupyter-widgets/base",
            "overflow": null,
            "_model_module_version": "1.2.0",
            "_view_count": null,
            "flex_flow": null,
            "width": null,
            "min_width": null,
            "border": null,
            "align_items": null,
            "bottom": null,
            "_model_module": "@jupyter-widgets/base",
            "top": null,
            "grid_column": null,
            "overflow_y": null,
            "overflow_x": null,
            "grid_auto_flow": null,
            "grid_area": null,
            "grid_template_columns": null,
            "flex": null,
            "_model_name": "LayoutModel",
            "justify_items": null,
            "grid_row": null,
            "max_height": null,
            "align_content": null,
            "visibility": null,
            "align_self": null,
            "height": null,
            "min_height": null,
            "padding": null,
            "grid_auto_rows": null,
            "grid_gap": null,
            "max_width": null,
            "order": null,
            "_view_module_version": "1.2.0",
            "grid_template_areas": null,
            "object_position": null,
            "object_fit": null,
            "grid_auto_columns": null,
            "margin": null,
            "display": null,
            "left": null
          },
          "model_module_version": "1.2.0"
        },
        "75cdd55db2d94e3dbd1acf312ed1addd": {
          "model_module": "@jupyter-widgets/controls",
          "model_name": "FloatProgressModel",
          "state": {
            "_view_name": "ProgressView",
            "style": "IPY_MODEL_4459e174594c4a6db9d26a85e7685fa4",
            "_dom_classes": [],
            "description": "Downloading: 100%",
            "_model_name": "FloatProgressModel",
            "bar_style": "success",
            "max": 1072,
            "_view_module": "@jupyter-widgets/controls",
            "_model_module_version": "1.5.0",
            "value": 1072,
            "_view_count": null,
            "_view_module_version": "1.5.0",
            "orientation": "horizontal",
            "min": 0,
            "description_tooltip": null,
            "_model_module": "@jupyter-widgets/controls",
            "layout": "IPY_MODEL_dc71b8756da54b85a926c1fe2646e56d"
          },
          "model_module_version": "1.5.0"
        },
        "7cd8be2ea1ae46f195856bffc09480c3": {
          "model_module": "@jupyter-widgets/controls",
          "model_name": "HTMLModel",
          "state": {
            "_view_name": "HTMLView",
            "style": "IPY_MODEL_9d6bf54eb1bc4eeda6a98073aca06f38",
            "_dom_classes": [],
            "description": "",
            "_model_name": "HTMLModel",
            "placeholder": "​",
            "_view_module": "@jupyter-widgets/controls",
            "_model_module_version": "1.5.0",
            "value": " 1.07k/1.07k [00:00&lt;00:00, 1.38kB/s]",
            "_view_count": null,
            "_view_module_version": "1.5.0",
            "description_tooltip": null,
            "_model_module": "@jupyter-widgets/controls",
            "layout": "IPY_MODEL_c88d10923b614a0fbe63adca1ceb8425"
          },
          "model_module_version": "1.5.0"
        },
        "4459e174594c4a6db9d26a85e7685fa4": {
          "model_module": "@jupyter-widgets/controls",
          "model_name": "ProgressStyleModel",
          "state": {
            "_view_name": "StyleView",
            "_model_name": "ProgressStyleModel",
            "description_width": "initial",
            "_view_module": "@jupyter-widgets/base",
            "_model_module_version": "1.5.0",
            "_view_count": null,
            "_view_module_version": "1.2.0",
            "bar_color": null,
            "_model_module": "@jupyter-widgets/controls"
          },
          "model_module_version": "1.5.0"
        },
        "dc71b8756da54b85a926c1fe2646e56d": {
          "model_module": "@jupyter-widgets/base",
          "model_name": "LayoutModel",
          "state": {
            "_view_name": "LayoutView",
            "grid_template_rows": null,
            "right": null,
            "justify_content": null,
            "_view_module": "@jupyter-widgets/base",
            "overflow": null,
            "_model_module_version": "1.2.0",
            "_view_count": null,
            "flex_flow": null,
            "width": null,
            "min_width": null,
            "border": null,
            "align_items": null,
            "bottom": null,
            "_model_module": "@jupyter-widgets/base",
            "top": null,
            "grid_column": null,
            "overflow_y": null,
            "overflow_x": null,
            "grid_auto_flow": null,
            "grid_area": null,
            "grid_template_columns": null,
            "flex": null,
            "_model_name": "LayoutModel",
            "justify_items": null,
            "grid_row": null,
            "max_height": null,
            "align_content": null,
            "visibility": null,
            "align_self": null,
            "height": null,
            "min_height": null,
            "padding": null,
            "grid_auto_rows": null,
            "grid_gap": null,
            "max_width": null,
            "order": null,
            "_view_module_version": "1.2.0",
            "grid_template_areas": null,
            "object_position": null,
            "object_fit": null,
            "grid_auto_columns": null,
            "margin": null,
            "display": null,
            "left": null
          },
          "model_module_version": "1.2.0"
        },
        "9d6bf54eb1bc4eeda6a98073aca06f38": {
          "model_module": "@jupyter-widgets/controls",
          "model_name": "DescriptionStyleModel",
          "state": {
            "_view_name": "StyleView",
            "_model_name": "DescriptionStyleModel",
            "description_width": "",
            "_view_module": "@jupyter-widgets/base",
            "_model_module_version": "1.5.0",
            "_view_count": null,
            "_view_module_version": "1.2.0",
            "_model_module": "@jupyter-widgets/controls"
          },
          "model_module_version": "1.5.0"
        },
        "c88d10923b614a0fbe63adca1ceb8425": {
          "model_module": "@jupyter-widgets/base",
          "model_name": "LayoutModel",
          "state": {
            "_view_name": "LayoutView",
            "grid_template_rows": null,
            "right": null,
            "justify_content": null,
            "_view_module": "@jupyter-widgets/base",
            "overflow": null,
            "_model_module_version": "1.2.0",
            "_view_count": null,
            "flex_flow": null,
            "width": null,
            "min_width": null,
            "border": null,
            "align_items": null,
            "bottom": null,
            "_model_module": "@jupyter-widgets/base",
            "top": null,
            "grid_column": null,
            "overflow_y": null,
            "overflow_x": null,
            "grid_auto_flow": null,
            "grid_area": null,
            "grid_template_columns": null,
            "flex": null,
            "_model_name": "LayoutModel",
            "justify_items": null,
            "grid_row": null,
            "max_height": null,
            "align_content": null,
            "visibility": null,
            "align_self": null,
            "height": null,
            "min_height": null,
            "padding": null,
            "grid_auto_rows": null,
            "grid_gap": null,
            "max_width": null,
            "order": null,
            "_view_module_version": "1.2.0",
            "grid_template_areas": null,
            "object_position": null,
            "object_fit": null,
            "grid_auto_columns": null,
            "margin": null,
            "display": null,
            "left": null
          },
          "model_module_version": "1.2.0"
        },
        "4c8b90b2cce04000ad9e559a1244e470": {
          "model_module": "@jupyter-widgets/controls",
          "model_name": "HBoxModel",
          "state": {
            "_view_name": "HBoxView",
            "_dom_classes": [],
            "_model_name": "HBoxModel",
            "_view_module": "@jupyter-widgets/controls",
            "_model_module_version": "1.5.0",
            "_view_count": null,
            "_view_module_version": "1.5.0",
            "box_style": "",
            "layout": "IPY_MODEL_8b1202ec2ae045d385b714906f921595",
            "_model_module": "@jupyter-widgets/controls",
            "children": [
              "IPY_MODEL_b104b201e59b4a92b046db8751eeb793",
              "IPY_MODEL_1b0ba87ddfb946548e04fc6199b498d3"
            ]
          },
          "model_module_version": "1.5.0"
        },
        "8b1202ec2ae045d385b714906f921595": {
          "model_module": "@jupyter-widgets/base",
          "model_name": "LayoutModel",
          "state": {
            "_view_name": "LayoutView",
            "grid_template_rows": null,
            "right": null,
            "justify_content": null,
            "_view_module": "@jupyter-widgets/base",
            "overflow": null,
            "_model_module_version": "1.2.0",
            "_view_count": null,
            "flex_flow": null,
            "width": null,
            "min_width": null,
            "border": null,
            "align_items": null,
            "bottom": null,
            "_model_module": "@jupyter-widgets/base",
            "top": null,
            "grid_column": null,
            "overflow_y": null,
            "overflow_x": null,
            "grid_auto_flow": null,
            "grid_area": null,
            "grid_template_columns": null,
            "flex": null,
            "_model_name": "LayoutModel",
            "justify_items": null,
            "grid_row": null,
            "max_height": null,
            "align_content": null,
            "visibility": null,
            "align_self": null,
            "height": null,
            "min_height": null,
            "padding": null,
            "grid_auto_rows": null,
            "grid_gap": null,
            "max_width": null,
            "order": null,
            "_view_module_version": "1.2.0",
            "grid_template_areas": null,
            "object_position": null,
            "object_fit": null,
            "grid_auto_columns": null,
            "margin": null,
            "display": null,
            "left": null
          },
          "model_module_version": "1.2.0"
        },
        "b104b201e59b4a92b046db8751eeb793": {
          "model_module": "@jupyter-widgets/controls",
          "model_name": "FloatProgressModel",
          "state": {
            "_view_name": "ProgressView",
            "style": "IPY_MODEL_591d593a03c54b1981d439c93f5d33ff",
            "_dom_classes": [],
            "description": "Downloading: 100%",
            "_model_name": "FloatProgressModel",
            "bar_style": "success",
            "max": 1387,
            "_view_module": "@jupyter-widgets/controls",
            "_model_module_version": "1.5.0",
            "value": 1387,
            "_view_count": null,
            "_view_module_version": "1.5.0",
            "orientation": "horizontal",
            "min": 0,
            "description_tooltip": null,
            "_model_module": "@jupyter-widgets/controls",
            "layout": "IPY_MODEL_fa2bcea47759471e88d66cdddf97f1cf"
          },
          "model_module_version": "1.5.0"
        },
        "1b0ba87ddfb946548e04fc6199b498d3": {
          "model_module": "@jupyter-widgets/controls",
          "model_name": "HTMLModel",
          "state": {
            "_view_name": "HTMLView",
            "style": "IPY_MODEL_5a9e1cab0f4e45bf81c88bf76ae6ad86",
            "_dom_classes": [],
            "description": "",
            "_model_name": "HTMLModel",
            "placeholder": "​",
            "_view_module": "@jupyter-widgets/controls",
            "_model_module_version": "1.5.0",
            "value": " 1.39k/1.39k [00:14&lt;00:00, 97.9B/s]",
            "_view_count": null,
            "_view_module_version": "1.5.0",
            "description_tooltip": null,
            "_model_module": "@jupyter-widgets/controls",
            "layout": "IPY_MODEL_f21771f6a6a349a6a0d40ae058f21c92"
          },
          "model_module_version": "1.5.0"
        },
        "591d593a03c54b1981d439c93f5d33ff": {
          "model_module": "@jupyter-widgets/controls",
          "model_name": "ProgressStyleModel",
          "state": {
            "_view_name": "StyleView",
            "_model_name": "ProgressStyleModel",
            "description_width": "initial",
            "_view_module": "@jupyter-widgets/base",
            "_model_module_version": "1.5.0",
            "_view_count": null,
            "_view_module_version": "1.2.0",
            "bar_color": null,
            "_model_module": "@jupyter-widgets/controls"
          },
          "model_module_version": "1.5.0"
        },
        "fa2bcea47759471e88d66cdddf97f1cf": {
          "model_module": "@jupyter-widgets/base",
          "model_name": "LayoutModel",
          "state": {
            "_view_name": "LayoutView",
            "grid_template_rows": null,
            "right": null,
            "justify_content": null,
            "_view_module": "@jupyter-widgets/base",
            "overflow": null,
            "_model_module_version": "1.2.0",
            "_view_count": null,
            "flex_flow": null,
            "width": null,
            "min_width": null,
            "border": null,
            "align_items": null,
            "bottom": null,
            "_model_module": "@jupyter-widgets/base",
            "top": null,
            "grid_column": null,
            "overflow_y": null,
            "overflow_x": null,
            "grid_auto_flow": null,
            "grid_area": null,
            "grid_template_columns": null,
            "flex": null,
            "_model_name": "LayoutModel",
            "justify_items": null,
            "grid_row": null,
            "max_height": null,
            "align_content": null,
            "visibility": null,
            "align_self": null,
            "height": null,
            "min_height": null,
            "padding": null,
            "grid_auto_rows": null,
            "grid_gap": null,
            "max_width": null,
            "order": null,
            "_view_module_version": "1.2.0",
            "grid_template_areas": null,
            "object_position": null,
            "object_fit": null,
            "grid_auto_columns": null,
            "margin": null,
            "display": null,
            "left": null
          },
          "model_module_version": "1.2.0"
        },
        "5a9e1cab0f4e45bf81c88bf76ae6ad86": {
          "model_module": "@jupyter-widgets/controls",
          "model_name": "DescriptionStyleModel",
          "state": {
            "_view_name": "StyleView",
            "_model_name": "DescriptionStyleModel",
            "description_width": "",
            "_view_module": "@jupyter-widgets/base",
            "_model_module_version": "1.5.0",
            "_view_count": null,
            "_view_module_version": "1.2.0",
            "_model_module": "@jupyter-widgets/controls"
          },
          "model_module_version": "1.5.0"
        },
        "f21771f6a6a349a6a0d40ae058f21c92": {
          "model_module": "@jupyter-widgets/base",
          "model_name": "LayoutModel",
          "state": {
            "_view_name": "LayoutView",
            "grid_template_rows": null,
            "right": null,
            "justify_content": null,
            "_view_module": "@jupyter-widgets/base",
            "overflow": null,
            "_model_module_version": "1.2.0",
            "_view_count": null,
            "flex_flow": null,
            "width": null,
            "min_width": null,
            "border": null,
            "align_items": null,
            "bottom": null,
            "_model_module": "@jupyter-widgets/base",
            "top": null,
            "grid_column": null,
            "overflow_y": null,
            "overflow_x": null,
            "grid_auto_flow": null,
            "grid_area": null,
            "grid_template_columns": null,
            "flex": null,
            "_model_name": "LayoutModel",
            "justify_items": null,
            "grid_row": null,
            "max_height": null,
            "align_content": null,
            "visibility": null,
            "align_self": null,
            "height": null,
            "min_height": null,
            "padding": null,
            "grid_auto_rows": null,
            "grid_gap": null,
            "max_width": null,
            "order": null,
            "_view_module_version": "1.2.0",
            "grid_template_areas": null,
            "object_position": null,
            "object_fit": null,
            "grid_auto_columns": null,
            "margin": null,
            "display": null,
            "left": null
          },
          "model_module_version": "1.2.0"
        },
        "4bfb58e7a6f347f9886b1a0c5e5eccbb": {
          "model_module": "@jupyter-widgets/controls",
          "model_name": "HBoxModel",
          "state": {
            "_view_name": "HBoxView",
            "_dom_classes": [],
            "_model_name": "HBoxModel",
            "_view_module": "@jupyter-widgets/controls",
            "_model_module_version": "1.5.0",
            "_view_count": null,
            "_view_module_version": "1.5.0",
            "box_style": "",
            "layout": "IPY_MODEL_7bd6b68aaa40452b9cf34f87c3fa5eb5",
            "_model_module": "@jupyter-widgets/controls",
            "children": [
              "IPY_MODEL_61b46f6a6da240d1928bb905e2a54ac6",
              "IPY_MODEL_203b9b58f92744619942f406dea66435"
            ]
          },
          "model_module_version": "1.5.0"
        },
        "7bd6b68aaa40452b9cf34f87c3fa5eb5": {
          "model_module": "@jupyter-widgets/base",
          "model_name": "LayoutModel",
          "state": {
            "_view_name": "LayoutView",
            "grid_template_rows": null,
            "right": null,
            "justify_content": null,
            "_view_module": "@jupyter-widgets/base",
            "overflow": null,
            "_model_module_version": "1.2.0",
            "_view_count": null,
            "flex_flow": null,
            "width": null,
            "min_width": null,
            "border": null,
            "align_items": null,
            "bottom": null,
            "_model_module": "@jupyter-widgets/base",
            "top": null,
            "grid_column": null,
            "overflow_y": null,
            "overflow_x": null,
            "grid_auto_flow": null,
            "grid_area": null,
            "grid_template_columns": null,
            "flex": null,
            "_model_name": "LayoutModel",
            "justify_items": null,
            "grid_row": null,
            "max_height": null,
            "align_content": null,
            "visibility": null,
            "align_self": null,
            "height": null,
            "min_height": null,
            "padding": null,
            "grid_auto_rows": null,
            "grid_gap": null,
            "max_width": null,
            "order": null,
            "_view_module_version": "1.2.0",
            "grid_template_areas": null,
            "object_position": null,
            "object_fit": null,
            "grid_auto_columns": null,
            "margin": null,
            "display": null,
            "left": null
          },
          "model_module_version": "1.2.0"
        },
        "61b46f6a6da240d1928bb905e2a54ac6": {
          "model_module": "@jupyter-widgets/controls",
          "model_name": "FloatProgressModel",
          "state": {
            "_view_name": "ProgressView",
            "style": "IPY_MODEL_5f8b570ace9446009ced9d2a48ca5314",
            "_dom_classes": [],
            "description": "Downloading: 100%",
            "_model_name": "FloatProgressModel",
            "bar_style": "success",
            "max": 337,
            "_view_module": "@jupyter-widgets/controls",
            "_model_module_version": "1.5.0",
            "value": 337,
            "_view_count": null,
            "_view_module_version": "1.5.0",
            "orientation": "horizontal",
            "min": 0,
            "description_tooltip": null,
            "_model_module": "@jupyter-widgets/controls",
            "layout": "IPY_MODEL_872960bd6de54b75a70241ebb609dfcb"
          },
          "model_module_version": "1.5.0"
        },
        "203b9b58f92744619942f406dea66435": {
          "model_module": "@jupyter-widgets/controls",
          "model_name": "HTMLModel",
          "state": {
            "_view_name": "HTMLView",
            "style": "IPY_MODEL_0b4a8627a3c0451aa853d9f5ee77f611",
            "_dom_classes": [],
            "description": "",
            "_model_name": "HTMLModel",
            "placeholder": "​",
            "_view_module": "@jupyter-widgets/controls",
            "_model_module_version": "1.5.0",
            "value": " 337/337 [00:00&lt;00:00, 346B/s]",
            "_view_count": null,
            "_view_module_version": "1.5.0",
            "description_tooltip": null,
            "_model_module": "@jupyter-widgets/controls",
            "layout": "IPY_MODEL_e2d089d87598420c8cf6463849a46231"
          },
          "model_module_version": "1.5.0"
        },
        "5f8b570ace9446009ced9d2a48ca5314": {
          "model_module": "@jupyter-widgets/controls",
          "model_name": "ProgressStyleModel",
          "state": {
            "_view_name": "StyleView",
            "_model_name": "ProgressStyleModel",
            "description_width": "initial",
            "_view_module": "@jupyter-widgets/base",
            "_model_module_version": "1.5.0",
            "_view_count": null,
            "_view_module_version": "1.2.0",
            "bar_color": null,
            "_model_module": "@jupyter-widgets/controls"
          },
          "model_module_version": "1.5.0"
        },
        "872960bd6de54b75a70241ebb609dfcb": {
          "model_module": "@jupyter-widgets/base",
          "model_name": "LayoutModel",
          "state": {
            "_view_name": "LayoutView",
            "grid_template_rows": null,
            "right": null,
            "justify_content": null,
            "_view_module": "@jupyter-widgets/base",
            "overflow": null,
            "_model_module_version": "1.2.0",
            "_view_count": null,
            "flex_flow": null,
            "width": null,
            "min_width": null,
            "border": null,
            "align_items": null,
            "bottom": null,
            "_model_module": "@jupyter-widgets/base",
            "top": null,
            "grid_column": null,
            "overflow_y": null,
            "overflow_x": null,
            "grid_auto_flow": null,
            "grid_area": null,
            "grid_template_columns": null,
            "flex": null,
            "_model_name": "LayoutModel",
            "justify_items": null,
            "grid_row": null,
            "max_height": null,
            "align_content": null,
            "visibility": null,
            "align_self": null,
            "height": null,
            "min_height": null,
            "padding": null,
            "grid_auto_rows": null,
            "grid_gap": null,
            "max_width": null,
            "order": null,
            "_view_module_version": "1.2.0",
            "grid_template_areas": null,
            "object_position": null,
            "object_fit": null,
            "grid_auto_columns": null,
            "margin": null,
            "display": null,
            "left": null
          },
          "model_module_version": "1.2.0"
        },
        "0b4a8627a3c0451aa853d9f5ee77f611": {
          "model_module": "@jupyter-widgets/controls",
          "model_name": "DescriptionStyleModel",
          "state": {
            "_view_name": "StyleView",
            "_model_name": "DescriptionStyleModel",
            "description_width": "",
            "_view_module": "@jupyter-widgets/base",
            "_model_module_version": "1.5.0",
            "_view_count": null,
            "_view_module_version": "1.2.0",
            "_model_module": "@jupyter-widgets/controls"
          },
          "model_module_version": "1.5.0"
        },
        "e2d089d87598420c8cf6463849a46231": {
          "model_module": "@jupyter-widgets/base",
          "model_name": "LayoutModel",
          "state": {
            "_view_name": "LayoutView",
            "grid_template_rows": null,
            "right": null,
            "justify_content": null,
            "_view_module": "@jupyter-widgets/base",
            "overflow": null,
            "_model_module_version": "1.2.0",
            "_view_count": null,
            "flex_flow": null,
            "width": null,
            "min_width": null,
            "border": null,
            "align_items": null,
            "bottom": null,
            "_model_module": "@jupyter-widgets/base",
            "top": null,
            "grid_column": null,
            "overflow_y": null,
            "overflow_x": null,
            "grid_auto_flow": null,
            "grid_area": null,
            "grid_template_columns": null,
            "flex": null,
            "_model_name": "LayoutModel",
            "justify_items": null,
            "grid_row": null,
            "max_height": null,
            "align_content": null,
            "visibility": null,
            "align_self": null,
            "height": null,
            "min_height": null,
            "padding": null,
            "grid_auto_rows": null,
            "grid_gap": null,
            "max_width": null,
            "order": null,
            "_view_module_version": "1.2.0",
            "grid_template_areas": null,
            "object_position": null,
            "object_fit": null,
            "grid_auto_columns": null,
            "margin": null,
            "display": null,
            "left": null
          },
          "model_module_version": "1.2.0"
        },
        "a7a69ba413214df0b15a003e54c972e3": {
          "model_module": "@jupyter-widgets/controls",
          "model_name": "HBoxModel",
          "state": {
            "_view_name": "HBoxView",
            "_dom_classes": [],
            "_model_name": "HBoxModel",
            "_view_module": "@jupyter-widgets/controls",
            "_model_module_version": "1.5.0",
            "_view_count": null,
            "_view_module_version": "1.5.0",
            "box_style": "",
            "layout": "IPY_MODEL_2dc1fc5a0dff44f7b083bde364bde8f8",
            "_model_module": "@jupyter-widgets/controls",
            "children": [
              "IPY_MODEL_60341155efb845d4814a0de31c0f57b2",
              "IPY_MODEL_97c1e15e41094c11b3c76a7b039c5ba8"
            ]
          },
          "model_module_version": "1.5.0"
        },
        "2dc1fc5a0dff44f7b083bde364bde8f8": {
          "model_module": "@jupyter-widgets/base",
          "model_name": "LayoutModel",
          "state": {
            "_view_name": "LayoutView",
            "grid_template_rows": null,
            "right": null,
            "justify_content": null,
            "_view_module": "@jupyter-widgets/base",
            "overflow": null,
            "_model_module_version": "1.2.0",
            "_view_count": null,
            "flex_flow": null,
            "width": null,
            "min_width": null,
            "border": null,
            "align_items": null,
            "bottom": null,
            "_model_module": "@jupyter-widgets/base",
            "top": null,
            "grid_column": null,
            "overflow_y": null,
            "overflow_x": null,
            "grid_auto_flow": null,
            "grid_area": null,
            "grid_template_columns": null,
            "flex": null,
            "_model_name": "LayoutModel",
            "justify_items": null,
            "grid_row": null,
            "max_height": null,
            "align_content": null,
            "visibility": null,
            "align_self": null,
            "height": null,
            "min_height": null,
            "padding": null,
            "grid_auto_rows": null,
            "grid_gap": null,
            "max_width": null,
            "order": null,
            "_view_module_version": "1.2.0",
            "grid_template_areas": null,
            "object_position": null,
            "object_fit": null,
            "grid_auto_columns": null,
            "margin": null,
            "display": null,
            "left": null
          },
          "model_module_version": "1.2.0"
        },
        "60341155efb845d4814a0de31c0f57b2": {
          "model_module": "@jupyter-widgets/controls",
          "model_name": "FloatProgressModel",
          "state": {
            "_view_name": "ProgressView",
            "style": "IPY_MODEL_c10e35d4841b415bad5cb581b9edcc07",
            "_dom_classes": [],
            "description": "Downloading: 100%",
            "_model_name": "FloatProgressModel",
            "bar_style": "success",
            "max": 440472042,
            "_view_module": "@jupyter-widgets/controls",
            "_model_module_version": "1.5.0",
            "value": 440472042,
            "_view_count": null,
            "_view_module_version": "1.5.0",
            "orientation": "horizontal",
            "min": 0,
            "description_tooltip": null,
            "_model_module": "@jupyter-widgets/controls",
            "layout": "IPY_MODEL_f07edda5cf244298a588bbc436100924"
          },
          "model_module_version": "1.5.0"
        },
        "97c1e15e41094c11b3c76a7b039c5ba8": {
          "model_module": "@jupyter-widgets/controls",
          "model_name": "HTMLModel",
          "state": {
            "_view_name": "HTMLView",
            "style": "IPY_MODEL_b38e6753aaf94e1a81422bf6f073d3a6",
            "_dom_classes": [],
            "description": "",
            "_model_name": "HTMLModel",
            "placeholder": "​",
            "_view_module": "@jupyter-widgets/controls",
            "_model_module_version": "1.5.0",
            "value": " 440M/440M [00:12&lt;00:00, 34.0MB/s]",
            "_view_count": null,
            "_view_module_version": "1.5.0",
            "description_tooltip": null,
            "_model_module": "@jupyter-widgets/controls",
            "layout": "IPY_MODEL_ddd6a68d2fde4977b4f273b1f870ba3c"
          },
          "model_module_version": "1.5.0"
        },
        "c10e35d4841b415bad5cb581b9edcc07": {
          "model_module": "@jupyter-widgets/controls",
          "model_name": "ProgressStyleModel",
          "state": {
            "_view_name": "StyleView",
            "_model_name": "ProgressStyleModel",
            "description_width": "initial",
            "_view_module": "@jupyter-widgets/base",
            "_model_module_version": "1.5.0",
            "_view_count": null,
            "_view_module_version": "1.2.0",
            "bar_color": null,
            "_model_module": "@jupyter-widgets/controls"
          },
          "model_module_version": "1.5.0"
        },
        "f07edda5cf244298a588bbc436100924": {
          "model_module": "@jupyter-widgets/base",
          "model_name": "LayoutModel",
          "state": {
            "_view_name": "LayoutView",
            "grid_template_rows": null,
            "right": null,
            "justify_content": null,
            "_view_module": "@jupyter-widgets/base",
            "overflow": null,
            "_model_module_version": "1.2.0",
            "_view_count": null,
            "flex_flow": null,
            "width": null,
            "min_width": null,
            "border": null,
            "align_items": null,
            "bottom": null,
            "_model_module": "@jupyter-widgets/base",
            "top": null,
            "grid_column": null,
            "overflow_y": null,
            "overflow_x": null,
            "grid_auto_flow": null,
            "grid_area": null,
            "grid_template_columns": null,
            "flex": null,
            "_model_name": "LayoutModel",
            "justify_items": null,
            "grid_row": null,
            "max_height": null,
            "align_content": null,
            "visibility": null,
            "align_self": null,
            "height": null,
            "min_height": null,
            "padding": null,
            "grid_auto_rows": null,
            "grid_gap": null,
            "max_width": null,
            "order": null,
            "_view_module_version": "1.2.0",
            "grid_template_areas": null,
            "object_position": null,
            "object_fit": null,
            "grid_auto_columns": null,
            "margin": null,
            "display": null,
            "left": null
          },
          "model_module_version": "1.2.0"
        },
        "b38e6753aaf94e1a81422bf6f073d3a6": {
          "model_module": "@jupyter-widgets/controls",
          "model_name": "DescriptionStyleModel",
          "state": {
            "_view_name": "StyleView",
            "_model_name": "DescriptionStyleModel",
            "description_width": "",
            "_view_module": "@jupyter-widgets/base",
            "_model_module_version": "1.5.0",
            "_view_count": null,
            "_view_module_version": "1.2.0",
            "_model_module": "@jupyter-widgets/controls"
          },
          "model_module_version": "1.5.0"
        },
        "ddd6a68d2fde4977b4f273b1f870ba3c": {
          "model_module": "@jupyter-widgets/base",
          "model_name": "LayoutModel",
          "state": {
            "_view_name": "LayoutView",
            "grid_template_rows": null,
            "right": null,
            "justify_content": null,
            "_view_module": "@jupyter-widgets/base",
            "overflow": null,
            "_model_module_version": "1.2.0",
            "_view_count": null,
            "flex_flow": null,
            "width": null,
            "min_width": null,
            "border": null,
            "align_items": null,
            "bottom": null,
            "_model_module": "@jupyter-widgets/base",
            "top": null,
            "grid_column": null,
            "overflow_y": null,
            "overflow_x": null,
            "grid_auto_flow": null,
            "grid_area": null,
            "grid_template_columns": null,
            "flex": null,
            "_model_name": "LayoutModel",
            "justify_items": null,
            "grid_row": null,
            "max_height": null,
            "align_content": null,
            "visibility": null,
            "align_self": null,
            "height": null,
            "min_height": null,
            "padding": null,
            "grid_auto_rows": null,
            "grid_gap": null,
            "max_width": null,
            "order": null,
            "_view_module_version": "1.2.0",
            "grid_template_areas": null,
            "object_position": null,
            "object_fit": null,
            "grid_auto_columns": null,
            "margin": null,
            "display": null,
            "left": null
          },
          "model_module_version": "1.2.0"
        },
        "cffca9fce39b4f4b98e3405e1cce0146": {
          "model_module": "@jupyter-widgets/controls",
          "model_name": "HBoxModel",
          "state": {
            "_view_name": "HBoxView",
            "_dom_classes": [],
            "_model_name": "HBoxModel",
            "_view_module": "@jupyter-widgets/controls",
            "_model_module_version": "1.5.0",
            "_view_count": null,
            "_view_module_version": "1.5.0",
            "box_style": "",
            "layout": "IPY_MODEL_d259d64eb56c4751892075fc7bf8e898",
            "_model_module": "@jupyter-widgets/controls",
            "children": [
              "IPY_MODEL_25e90fb61fba40dd97c19fb1375adae3",
              "IPY_MODEL_1fb0b83019ac43619d316e125a4d37d5"
            ]
          },
          "model_module_version": "1.5.0"
        },
        "d259d64eb56c4751892075fc7bf8e898": {
          "model_module": "@jupyter-widgets/base",
          "model_name": "LayoutModel",
          "state": {
            "_view_name": "LayoutView",
            "grid_template_rows": null,
            "right": null,
            "justify_content": null,
            "_view_module": "@jupyter-widgets/base",
            "overflow": null,
            "_model_module_version": "1.2.0",
            "_view_count": null,
            "flex_flow": null,
            "width": null,
            "min_width": null,
            "border": null,
            "align_items": null,
            "bottom": null,
            "_model_module": "@jupyter-widgets/base",
            "top": null,
            "grid_column": null,
            "overflow_y": null,
            "overflow_x": null,
            "grid_auto_flow": null,
            "grid_area": null,
            "grid_template_columns": null,
            "flex": null,
            "_model_name": "LayoutModel",
            "justify_items": null,
            "grid_row": null,
            "max_height": null,
            "align_content": null,
            "visibility": null,
            "align_self": null,
            "height": null,
            "min_height": null,
            "padding": null,
            "grid_auto_rows": null,
            "grid_gap": null,
            "max_width": null,
            "order": null,
            "_view_module_version": "1.2.0",
            "grid_template_areas": null,
            "object_position": null,
            "object_fit": null,
            "grid_auto_columns": null,
            "margin": null,
            "display": null,
            "left": null
          },
          "model_module_version": "1.2.0"
        },
        "25e90fb61fba40dd97c19fb1375adae3": {
          "model_module": "@jupyter-widgets/controls",
          "model_name": "FloatProgressModel",
          "state": {
            "_view_name": "ProgressView",
            "style": "IPY_MODEL_9882d938d9fd44fd8954edb3037d2a8a",
            "_dom_classes": [],
            "description": "Downloading: 100%",
            "_model_name": "FloatProgressModel",
            "bar_style": "success",
            "max": 225062,
            "_view_module": "@jupyter-widgets/controls",
            "_model_module_version": "1.5.0",
            "value": 225062,
            "_view_count": null,
            "_view_module_version": "1.5.0",
            "orientation": "horizontal",
            "min": 0,
            "description_tooltip": null,
            "_model_module": "@jupyter-widgets/controls",
            "layout": "IPY_MODEL_e80f78f11bfa44e0b4aa36cab305fe26"
          },
          "model_module_version": "1.5.0"
        },
        "1fb0b83019ac43619d316e125a4d37d5": {
          "model_module": "@jupyter-widgets/controls",
          "model_name": "HTMLModel",
          "state": {
            "_view_name": "HTMLView",
            "style": "IPY_MODEL_5e6075e623dc4ccfb8a002399639ba59",
            "_dom_classes": [],
            "description": "",
            "_model_name": "HTMLModel",
            "placeholder": "​",
            "_view_module": "@jupyter-widgets/controls",
            "_model_module_version": "1.5.0",
            "value": " 225k/225k [00:00&lt;00:00, 391kB/s]",
            "_view_count": null,
            "_view_module_version": "1.5.0",
            "description_tooltip": null,
            "_model_module": "@jupyter-widgets/controls",
            "layout": "IPY_MODEL_a8fd8ad4eae1427eab1afdd3f2f159c7"
          },
          "model_module_version": "1.5.0"
        },
        "9882d938d9fd44fd8954edb3037d2a8a": {
          "model_module": "@jupyter-widgets/controls",
          "model_name": "ProgressStyleModel",
          "state": {
            "_view_name": "StyleView",
            "_model_name": "ProgressStyleModel",
            "description_width": "initial",
            "_view_module": "@jupyter-widgets/base",
            "_model_module_version": "1.5.0",
            "_view_count": null,
            "_view_module_version": "1.2.0",
            "bar_color": null,
            "_model_module": "@jupyter-widgets/controls"
          },
          "model_module_version": "1.5.0"
        },
        "e80f78f11bfa44e0b4aa36cab305fe26": {
          "model_module": "@jupyter-widgets/base",
          "model_name": "LayoutModel",
          "state": {
            "_view_name": "LayoutView",
            "grid_template_rows": null,
            "right": null,
            "justify_content": null,
            "_view_module": "@jupyter-widgets/base",
            "overflow": null,
            "_model_module_version": "1.2.0",
            "_view_count": null,
            "flex_flow": null,
            "width": null,
            "min_width": null,
            "border": null,
            "align_items": null,
            "bottom": null,
            "_model_module": "@jupyter-widgets/base",
            "top": null,
            "grid_column": null,
            "overflow_y": null,
            "overflow_x": null,
            "grid_auto_flow": null,
            "grid_area": null,
            "grid_template_columns": null,
            "flex": null,
            "_model_name": "LayoutModel",
            "justify_items": null,
            "grid_row": null,
            "max_height": null,
            "align_content": null,
            "visibility": null,
            "align_self": null,
            "height": null,
            "min_height": null,
            "padding": null,
            "grid_auto_rows": null,
            "grid_gap": null,
            "max_width": null,
            "order": null,
            "_view_module_version": "1.2.0",
            "grid_template_areas": null,
            "object_position": null,
            "object_fit": null,
            "grid_auto_columns": null,
            "margin": null,
            "display": null,
            "left": null
          },
          "model_module_version": "1.2.0"
        },
        "5e6075e623dc4ccfb8a002399639ba59": {
          "model_module": "@jupyter-widgets/controls",
          "model_name": "DescriptionStyleModel",
          "state": {
            "_view_name": "StyleView",
            "_model_name": "DescriptionStyleModel",
            "description_width": "",
            "_view_module": "@jupyter-widgets/base",
            "_model_module_version": "1.5.0",
            "_view_count": null,
            "_view_module_version": "1.2.0",
            "_model_module": "@jupyter-widgets/controls"
          },
          "model_module_version": "1.5.0"
        },
        "a8fd8ad4eae1427eab1afdd3f2f159c7": {
          "model_module": "@jupyter-widgets/base",
          "model_name": "LayoutModel",
          "state": {
            "_view_name": "LayoutView",
            "grid_template_rows": null,
            "right": null,
            "justify_content": null,
            "_view_module": "@jupyter-widgets/base",
            "overflow": null,
            "_model_module_version": "1.2.0",
            "_view_count": null,
            "flex_flow": null,
            "width": null,
            "min_width": null,
            "border": null,
            "align_items": null,
            "bottom": null,
            "_model_module": "@jupyter-widgets/base",
            "top": null,
            "grid_column": null,
            "overflow_y": null,
            "overflow_x": null,
            "grid_auto_flow": null,
            "grid_area": null,
            "grid_template_columns": null,
            "flex": null,
            "_model_name": "LayoutModel",
            "justify_items": null,
            "grid_row": null,
            "max_height": null,
            "align_content": null,
            "visibility": null,
            "align_self": null,
            "height": null,
            "min_height": null,
            "padding": null,
            "grid_auto_rows": null,
            "grid_gap": null,
            "max_width": null,
            "order": null,
            "_view_module_version": "1.2.0",
            "grid_template_areas": null,
            "object_position": null,
            "object_fit": null,
            "grid_auto_columns": null,
            "margin": null,
            "display": null,
            "left": null
          },
          "model_module_version": "1.2.0"
        }
      }
    }
  },
  "cells": [
    {
      "cell_type": "markdown",
      "metadata": {
        "id": "Ou6mUV-5h0ls"
      },
      "source": [
        "# Setting up with BigQuery\n",
        "[This notebook](https://colab.research.google.com/notebooks/bigquery.ipynb#scrollTo=ONI1Xo0-KtAD) provides a great tutorial on how to set up BigQuery access with Google Colab"
      ]
    },
    {
      "cell_type": "code",
      "metadata": {
        "id": "LrKMGvLXqFAe"
      },
      "source": [
        "import pandas as pd"
      ],
      "execution_count": null,
      "outputs": []
    },
    {
      "cell_type": "code",
      "metadata": {
        "colab": {
          "base_uri": "https://localhost:8080/"
        },
        "id": "2zsRdczZfdkb",
        "outputId": "0e55c5a3-81b9-4cbb-e6d9-cf6ad0cbda71"
      },
      "source": [
        "#mount drive\n",
        "from google.colab import auth\n",
        "auth.authenticate_user()\n",
        "print('Authenticated')"
      ],
      "execution_count": null,
      "outputs": [
        {
          "output_type": "stream",
          "text": [
            "Authenticated\n"
          ],
          "name": "stdout"
        }
      ]
    },
    {
      "cell_type": "code",
      "metadata": {
        "id": "GmGarMvrglg6"
      },
      "source": [
        "#enter project id\n",
        "project_id = 'patent-classification-313315'"
      ],
      "execution_count": null,
      "outputs": []
    },
    {
      "cell_type": "code",
      "metadata": {
        "id": "mo77YRbFhFc9"
      },
      "source": [
        "#import bigquery\n",
        "from google.cloud import bigquery\n",
        "client = bigquery.Client(project=project_id)"
      ],
      "execution_count": null,
      "outputs": []
    },
    {
      "cell_type": "markdown",
      "metadata": {
        "id": "a8PCkztIKKL9"
      },
      "source": [
        "# Two options:\n",
        "The user can either upload a csv file to their drive that contains the publication numbers of active patents they want to analyze. The file should be formatted with \"publication_number\" as the column name, and the patents should be formatted with \"US-patent_number-patent_kind_code\", ex: \"US-123456-A1\".\n",
        "Alternatively, the user can query patents based on a keyword phrase they provide. It will then return all patent matches that contain that phrase. "
      ]
    },
    {
      "cell_type": "markdown",
      "metadata": {
        "id": "a0-dG23WLKPL"
      },
      "source": [
        "## Option 1"
      ]
    },
    {
      "cell_type": "code",
      "metadata": {
        "id": "bDVGk00ULMn1"
      },
      "source": [
        "#load in dataframe of pub numbers of desired patents to work with \n",
        "#we are working with patents in pharmacology and patient insurance\n",
        "#mount to drive and find file path for appropriate project\n",
        "df = pd.read_csv(\"/content/drive/MyDrive/Practicum/sample_pub_numbers.csv\")\n",
        "df.head()"
      ],
      "execution_count": null,
      "outputs": []
    },
    {
      "cell_type": "code",
      "metadata": {
        "id": "-aWdranRLQRn"
      },
      "source": [
        "dest_dataset = 'desired_publication_numbers'\n",
        "# Upload these to our dataset on BigQuery.\n",
        "ID_table = 'ID_table'\n",
        "full_table_path = '{}.{}'.format(dest_dataset, ID_table)\n",
        "df.to_gbq(full_table_path, project_id, if_exists = \"replace\")"
      ],
      "execution_count": null,
      "outputs": []
    },
    {
      "cell_type": "code",
      "metadata": {
        "id": "xYNLV_GQLXLX"
      },
      "source": [
        "df = client.query('''\n",
        "#standardSQL\n",
        "\n",
        "WITH P AS (\n",
        "  SELECT \n",
        "  publication_number, \n",
        "  floor(priority_date / 10000) priority_yr\n",
        "  FROM `patents-public-data.patents.publications`\n",
        "  WHERE country_code = 'US'\n",
        "  AND floor(priority_date / 10000) >= 1950\n",
        "  AND country_code = 'US'\n",
        ")\n",
        "\n",
        "SELECT \n",
        "P.publication_number,\n",
        "P.priority_yr,\n",
        "abstracts.text\n",
        "FROM `patents-public-data.patents.publications` as pubs,\n",
        "UNNEST(abstract_localized) as abstracts\n",
        "JOIN P \n",
        "  ON P.publication_number = pubs.publication_number\n",
        "JOIN `patent-classification-313315.desired_publication_numbers.ID_table` my_pubs\n",
        "  ON pubs.publication_number = my_pubs.publication_number\n",
        "WHERE abstracts.language = 'en'\n",
        "''').to_dataframe()"
      ],
      "execution_count": null,
      "outputs": []
    },
    {
      "cell_type": "markdown",
      "metadata": {
        "id": "WEMLByYPLX30"
      },
      "source": [
        "## Option 2"
      ]
    },
    {
      "cell_type": "code",
      "metadata": {
        "id": "wfQm0-FU05pO"
      },
      "source": [
        "df = client.query('''\n",
        "  SELECT * FROM\n",
        "  `patents-public-data.patents.publications` AS patentsdb,\n",
        "  UNNEST(abstract_localized) AS abstract_info\n",
        "  # enter query phrase to search patents for\n",
        "  WHERE LOWER(abstract_info.text) LIKE '%virus%'\n",
        "    AND patentsdb.country_code = 'US'\n",
        "  ORDER BY patentsdb.priority_date DESC\n",
        "  # enter max number of patents to analyze in results\n",
        "  LIMIT 200\n",
        "''').to_dataframe()"
      ],
      "execution_count": null,
      "outputs": []
    },
    {
      "cell_type": "code",
      "metadata": {
        "colab": {
          "base_uri": "https://localhost:8080/",
          "height": 683
        },
        "id": "mteXXKwHiN33",
        "outputId": "f217db80-0fc0-4f58-c13d-ac6c6567c8d3"
      },
      "source": [
        "df.head()"
      ],
      "execution_count": null,
      "outputs": [
        {
          "output_type": "execute_result",
          "data": {
            "text/html": [
              "<div>\n",
              "<style scoped>\n",
              "    .dataframe tbody tr th:only-of-type {\n",
              "        vertical-align: middle;\n",
              "    }\n",
              "\n",
              "    .dataframe tbody tr th {\n",
              "        vertical-align: top;\n",
              "    }\n",
              "\n",
              "    .dataframe thead th {\n",
              "        text-align: right;\n",
              "    }\n",
              "</style>\n",
              "<table border=\"1\" class=\"dataframe\">\n",
              "  <thead>\n",
              "    <tr style=\"text-align: right;\">\n",
              "      <th></th>\n",
              "      <th>publication_number</th>\n",
              "      <th>application_number</th>\n",
              "      <th>country_code</th>\n",
              "      <th>kind_code</th>\n",
              "      <th>application_kind</th>\n",
              "      <th>application_number_formatted</th>\n",
              "      <th>pct_number</th>\n",
              "      <th>family_id</th>\n",
              "      <th>title_localized</th>\n",
              "      <th>abstract_localized</th>\n",
              "      <th>claims_localized</th>\n",
              "      <th>claims_localized_html</th>\n",
              "      <th>description_localized</th>\n",
              "      <th>description_localized_html</th>\n",
              "      <th>publication_date</th>\n",
              "      <th>filing_date</th>\n",
              "      <th>grant_date</th>\n",
              "      <th>priority_date</th>\n",
              "      <th>priority_claim</th>\n",
              "      <th>inventor</th>\n",
              "      <th>inventor_harmonized</th>\n",
              "      <th>assignee</th>\n",
              "      <th>assignee_harmonized</th>\n",
              "      <th>examiner</th>\n",
              "      <th>uspc</th>\n",
              "      <th>ipc</th>\n",
              "      <th>cpc</th>\n",
              "      <th>fi</th>\n",
              "      <th>fterm</th>\n",
              "      <th>locarno</th>\n",
              "      <th>citation</th>\n",
              "      <th>parent</th>\n",
              "      <th>child</th>\n",
              "      <th>entity_status</th>\n",
              "      <th>art_unit</th>\n",
              "      <th>text</th>\n",
              "      <th>language</th>\n",
              "      <th>truncated</th>\n",
              "    </tr>\n",
              "  </thead>\n",
              "  <tbody>\n",
              "    <tr>\n",
              "      <th>0</th>\n",
              "      <td>US-2021052922-A1</td>\n",
              "      <td>US-202017093213-A</td>\n",
              "      <td>US</td>\n",
              "      <td>A1</td>\n",
              "      <td>A</td>\n",
              "      <td>US17093213</td>\n",
              "      <td></td>\n",
              "      <td>74646516</td>\n",
              "      <td>[{'text': 'Ppe with rotating assembly providin...</td>\n",
              "      <td>[{'text': 'A personal protective device (PPE) ...</td>\n",
              "      <td>[{'text': '1 . A PPE device configured to for ...</td>\n",
              "      <td>[{'text': '&lt;claims mxw-id=\"PCLM282664602\" lang...</td>\n",
              "      <td>[{'text': 'BACKGROUND OF THE INVENTION \n",
              "     F...</td>\n",
              "      <td>[{'text': '&lt;description mxw-id=\"PDES286586638\"...</td>\n",
              "      <td>20210225</td>\n",
              "      <td>20201109</td>\n",
              "      <td>0</td>\n",
              "      <td>20201109</td>\n",
              "      <td>[{'publication_number': '', 'application_numbe...</td>\n",
              "      <td>[CHEN, ANDY, WANG, CINDY JINGRU, BRYAN, ALLEN,...</td>\n",
              "      <td>[{'name': 'CHEN ANDY', 'country_code': 'US'}, ...</td>\n",
              "      <td>[Golden Galaxy Corporation]</td>\n",
              "      <td>[{'name': 'GOLDEN GALAXY CORP', 'country_code'...</td>\n",
              "      <td>[]</td>\n",
              "      <td>[]</td>\n",
              "      <td>[{'code': 'A62B18/04', 'inventive': True, 'fir...</td>\n",
              "      <td>[{'code': 'A41D13/1153', 'inventive': True, 'f...</td>\n",
              "      <td>[]</td>\n",
              "      <td>[]</td>\n",
              "      <td>[]</td>\n",
              "      <td>[]</td>\n",
              "      <td>[]</td>\n",
              "      <td>[]</td>\n",
              "      <td></td>\n",
              "      <td></td>\n",
              "      <td>A personal protective device (PPE) comprising ...</td>\n",
              "      <td>en</td>\n",
              "      <td>False</td>\n",
              "    </tr>\n",
              "    <tr>\n",
              "      <th>1</th>\n",
              "      <td>US-2021052922-A1</td>\n",
              "      <td>US-202017093213-A</td>\n",
              "      <td>US</td>\n",
              "      <td>A1</td>\n",
              "      <td>A</td>\n",
              "      <td>US17093213</td>\n",
              "      <td></td>\n",
              "      <td>74646516</td>\n",
              "      <td>[{'text': 'Ppe with rotating assembly providin...</td>\n",
              "      <td>[{'text': 'A personal protective device (PPE) ...</td>\n",
              "      <td>[{'text': '1 . A PPE device configured to for ...</td>\n",
              "      <td>[{'text': '&lt;claims mxw-id=\"PCLM282664602\" lang...</td>\n",
              "      <td>[{'text': 'BACKGROUND OF THE INVENTION \n",
              "     F...</td>\n",
              "      <td>[{'text': '&lt;description mxw-id=\"PDES286586638\"...</td>\n",
              "      <td>20210225</td>\n",
              "      <td>20201109</td>\n",
              "      <td>0</td>\n",
              "      <td>20201109</td>\n",
              "      <td>[{'publication_number': '', 'application_numbe...</td>\n",
              "      <td>[CHEN, ANDY, WANG, CINDY JINGRU, BRYAN, ALLEN,...</td>\n",
              "      <td>[{'name': 'CHEN ANDY', 'country_code': 'US'}, ...</td>\n",
              "      <td>[Golden Galaxy Corporation]</td>\n",
              "      <td>[{'name': 'GOLDEN GALAXY CORP', 'country_code'...</td>\n",
              "      <td>[]</td>\n",
              "      <td>[]</td>\n",
              "      <td>[{'code': 'A62B18/04', 'inventive': True, 'fir...</td>\n",
              "      <td>[{'code': 'A41D13/1153', 'inventive': True, 'f...</td>\n",
              "      <td>[]</td>\n",
              "      <td>[]</td>\n",
              "      <td>[]</td>\n",
              "      <td>[]</td>\n",
              "      <td>[]</td>\n",
              "      <td>[]</td>\n",
              "      <td></td>\n",
              "      <td></td>\n",
              "      <td>A personal protective device (PPE) comprising ...</td>\n",
              "      <td>en</td>\n",
              "      <td>False</td>\n",
              "    </tr>\n",
              "    <tr>\n",
              "      <th>2</th>\n",
              "      <td>US-2021103656-A1</td>\n",
              "      <td>US-202017090924-A</td>\n",
              "      <td>US</td>\n",
              "      <td>A1</td>\n",
              "      <td>A</td>\n",
              "      <td>US17090924</td>\n",
              "      <td></td>\n",
              "      <td>75274190</td>\n",
              "      <td>[{'text': 'Method and apparatus using virtual ...</td>\n",
              "      <td>[{'text': 'The present invention provides a me...</td>\n",
              "      <td>[{'text': '1 . A storage system or server, com...</td>\n",
              "      <td>[{'text': '&lt;claims mxw-id=\"PCLM285437001\" lang...</td>\n",
              "      <td>[{'text': 'BACKGROUND \n",
              "     Field of the inven...</td>\n",
              "      <td>[{'text': '&lt;description mxw-id=\"PDES289309775\"...</td>\n",
              "      <td>20210408</td>\n",
              "      <td>20201106</td>\n",
              "      <td>0</td>\n",
              "      <td>20201106</td>\n",
              "      <td>[{'publication_number': '', 'application_numbe...</td>\n",
              "      <td>[Tahmasebi, Lilly Nahal]</td>\n",
              "      <td>[{'name': 'TAHMASEBI LILLY NAHAL', 'country_co...</td>\n",
              "      <td>[Lilly Nahal Tahmasebi]</td>\n",
              "      <td>[{'name': 'TAHMASEBI LILLY NAHAL', 'country_co...</td>\n",
              "      <td>[]</td>\n",
              "      <td>[]</td>\n",
              "      <td>[{'code': 'G06F21/55', 'inventive': True, 'fir...</td>\n",
              "      <td>[{'code': 'G06N5/04', 'inventive': True, 'firs...</td>\n",
              "      <td>[]</td>\n",
              "      <td>[]</td>\n",
              "      <td>[]</td>\n",
              "      <td>[]</td>\n",
              "      <td>[]</td>\n",
              "      <td>[]</td>\n",
              "      <td></td>\n",
              "      <td></td>\n",
              "      <td>The present invention provides a method and ap...</td>\n",
              "      <td>en</td>\n",
              "      <td>False</td>\n",
              "    </tr>\n",
              "    <tr>\n",
              "      <th>3</th>\n",
              "      <td>US-2021103656-A1</td>\n",
              "      <td>US-202017090924-A</td>\n",
              "      <td>US</td>\n",
              "      <td>A1</td>\n",
              "      <td>A</td>\n",
              "      <td>US17090924</td>\n",
              "      <td></td>\n",
              "      <td>75274190</td>\n",
              "      <td>[{'text': 'Method and apparatus using virtual ...</td>\n",
              "      <td>[{'text': 'The present invention provides a me...</td>\n",
              "      <td>[{'text': '1 . A storage system or server, com...</td>\n",
              "      <td>[{'text': '&lt;claims mxw-id=\"PCLM285437001\" lang...</td>\n",
              "      <td>[{'text': 'BACKGROUND \n",
              "     Field of the inven...</td>\n",
              "      <td>[{'text': '&lt;description mxw-id=\"PDES289309775\"...</td>\n",
              "      <td>20210408</td>\n",
              "      <td>20201106</td>\n",
              "      <td>0</td>\n",
              "      <td>20201106</td>\n",
              "      <td>[{'publication_number': '', 'application_numbe...</td>\n",
              "      <td>[Tahmasebi, Lilly Nahal]</td>\n",
              "      <td>[{'name': 'TAHMASEBI LILLY NAHAL', 'country_co...</td>\n",
              "      <td>[Lilly Nahal Tahmasebi]</td>\n",
              "      <td>[{'name': 'TAHMASEBI LILLY NAHAL', 'country_co...</td>\n",
              "      <td>[]</td>\n",
              "      <td>[]</td>\n",
              "      <td>[{'code': 'G06F21/55', 'inventive': True, 'fir...</td>\n",
              "      <td>[{'code': 'G06N5/04', 'inventive': True, 'firs...</td>\n",
              "      <td>[]</td>\n",
              "      <td>[]</td>\n",
              "      <td>[]</td>\n",
              "      <td>[]</td>\n",
              "      <td>[]</td>\n",
              "      <td>[]</td>\n",
              "      <td></td>\n",
              "      <td></td>\n",
              "      <td>The present invention provides a method and ap...</td>\n",
              "      <td>en</td>\n",
              "      <td>False</td>\n",
              "    </tr>\n",
              "    <tr>\n",
              "      <th>4</th>\n",
              "      <td>US-10948287-B1</td>\n",
              "      <td>US-202017083670-A</td>\n",
              "      <td>US</td>\n",
              "      <td>B1</td>\n",
              "      <td>A</td>\n",
              "      <td>US17083670</td>\n",
              "      <td></td>\n",
              "      <td>74870492</td>\n",
              "      <td>[{'text': 'Wearable device for spacing awarene...</td>\n",
              "      <td>[{'text': 'A wearable device for spacing aware...</td>\n",
              "      <td>[{'text': 'What is claimed is: \n",
              "     \n",
              "       1...</td>\n",
              "      <td>[{'text': '&lt;claims mxw-id=\"PCLM283830702\" lang...</td>\n",
              "      <td>[{'text': 'BACKGROUND OF THE INVENTION \n",
              "     1...</td>\n",
              "      <td>[{'text': '&lt;description mxw-id=\"PDES287720757\"...</td>\n",
              "      <td>20210316</td>\n",
              "      <td>20201029</td>\n",
              "      <td>20210316</td>\n",
              "      <td>20201029</td>\n",
              "      <td>[{'publication_number': '', 'application_numbe...</td>\n",
              "      <td>[GRANT, PETER]</td>\n",
              "      <td>[{'name': 'GRANT PETER', 'country_code': 'US'}]</td>\n",
              "      <td>[Peter Grant]</td>\n",
              "      <td>[{'name': 'GRANT PETER', 'country_code': 'US'}]</td>\n",
              "      <td>[{'name': 'Porta David P', 'department': '2884...</td>\n",
              "      <td>[]</td>\n",
              "      <td>[{'code': 'G01J5/00', 'inventive': True, 'firs...</td>\n",
              "      <td>[{'code': 'G08B13/189', 'inventive': True, 'fi...</td>\n",
              "      <td>[]</td>\n",
              "      <td>[]</td>\n",
              "      <td>[]</td>\n",
              "      <td>[{'publication_number': 'US-2017032646-A1', 'a...</td>\n",
              "      <td>[]</td>\n",
              "      <td>[]</td>\n",
              "      <td>micro</td>\n",
              "      <td>2884</td>\n",
              "      <td>A wearable device for spacing awareness includ...</td>\n",
              "      <td>en</td>\n",
              "      <td>False</td>\n",
              "    </tr>\n",
              "  </tbody>\n",
              "</table>\n",
              "</div>"
            ],
            "text/plain": [
              "  publication_number application_number  ... language truncated\n",
              "0   US-2021052922-A1  US-202017093213-A  ...       en     False\n",
              "1   US-2021052922-A1  US-202017093213-A  ...       en     False\n",
              "2   US-2021103656-A1  US-202017090924-A  ...       en     False\n",
              "3   US-2021103656-A1  US-202017090924-A  ...       en     False\n",
              "4     US-10948287-B1  US-202017083670-A  ...       en     False\n",
              "\n",
              "[5 rows x 38 columns]"
            ]
          },
          "metadata": {
            "tags": []
          },
          "execution_count": 6
        }
      ]
    },
    {
      "cell_type": "code",
      "metadata": {
        "id": "XV5LAw3syyhX"
      },
      "source": [
        "abstracts = df[\"abstract_localized\"]\n",
        "abstracts_text = []\n",
        "for i in abstracts:\n",
        "  for j in i:\n",
        "    abstract = j[\"text\"]\n",
        "    if abstract not in abstracts_text:\n",
        "      abstracts_text.append(abstract)\n",
        "    else:\n",
        "      pass"
      ],
      "execution_count": null,
      "outputs": []
    },
    {
      "cell_type": "code",
      "metadata": {
        "colab": {
          "base_uri": "https://localhost:8080/"
        },
        "id": "o1SH6uPV_qr1",
        "outputId": "48868b09-5895-4a60-8e6d-11058e9e73fc"
      },
      "source": [
        "#we lose some values as some abstracts are repeated in the initial query\n",
        "len(abstracts_text)"
      ],
      "execution_count": null,
      "outputs": [
        {
          "output_type": "execute_result",
          "data": {
            "text/plain": [
              "111"
            ]
          },
          "metadata": {
            "tags": []
          },
          "execution_count": 8
        }
      ]
    },
    {
      "cell_type": "code",
      "metadata": {
        "colab": {
          "base_uri": "https://localhost:8080/"
        },
        "id": "PdZ1KJKK0TBD",
        "outputId": "8eec4125-c9bb-4750-df68-21462865b586"
      },
      "source": [
        "abstracts_text[0:5]"
      ],
      "execution_count": null,
      "outputs": [
        {
          "output_type": "execute_result",
          "data": {
            "text/plain": [
              "['A personal protective device (PPE) comprising a face cover assembly and a bodysuit configured to be worn by a human user. The device protects users against airborne aerosol particles containing viruses or other infectious agents while enabling improved flexibility relative to prior art designs. The device includes a helmet-like” rotating face cover assembly that fits over the user&#39;s head and attaches to a collar on the biohazard bodysuit. This rotating face cover assembly has a plurality of different mask sides, each with differing geometries or other properties. The device enables a user to can rotate the cover and select a given mask side that best meets that user&#39;s needs. The different mask sides can accommodate different facial geometries, eyewear types, and use cases.',\n",
              " 'The present invention provides a method and apparatus for a highly secure Air-Gapped storage or repository (Transportable Storage). The apparatus has a storage stack that can be completely isolated and not accessible to outside of the system except through an internal virtual network connected to the main or primary storage stack with special protocols and authentications trusted by both parties (primary and Transportable Storage Stack(s)) and hosted on the virtual layer. The storage stacks could be either virtual or physical. The system uses a consensus algorithm to achieve consensus in order to authorize/validate any user, action or function. The system using this method might also be environment-aware or policy enabled and can take proper actions in case of malicious network attacks or problems detected by antivirus software. In addition, it can make itself offline or invisible. The system can be online or offline at specific times either manually or based on automated scripts, schedule, policy or event(s).',\n",
              " 'A wearable device for spacing awareness including a housing assembly and an electronics assembly is disclosed. The housing assembly includes a housing which includes a lens. The housing includes a securing clip at a rear side to easily attach the housing to a wearer. Within the housing is the electronics assembly. The electronics assembly includes sensors securing within the housing and behind the lens. The sensors being infrared sensors that detect when someone is too close to the wearer through heat detection. The lens help improve the function of the sensors. When the sensors detect a person is too close to the wear a laser beam is emitted. The laser beam indicates how far from the wearer other people must remain so that proper social distancing is achieved. With proper social distancing the likelihood of cross contamination from air borne diseases, bacteria and viruses is reduced.',\n",
              " 'A bandage with a center that elevates over an open wound or desired portion of skin to be covered which forms a dome that has tiny vent holes to allow air inside. The dome allows fresh air to the wound while it is still protected from harmful bacteria, infections, virus&#39; or disease.',\n",
              " 'COVID-19 is a large virus with remarkable resilience, propagation and multiplication features that require complex technologic systems and manners to assure a reasonable protection. A transparent, multiuse face mask with valves and for inhalation of air from a specialized filter placed in a cleaner air space, and an exhalation valve that drives the exhaled air via a tube to a filter bladder placed on wrist and from there to a tube that has the release end near ground, or can be connected to the aspiration tube of the infrastructure, that removes it, preventing recirculation. The general convention that defines the usage method is that the building, buss, and any other enclosure provide clean antiseptic air above and consumer s have to release their exhalations down near floor from where the structure to remove them by a controlled air flow similar to clean rooms. \\n     The main condition is that people to place their exhalation exhaust sterilized and placed near ground in order to increase the probability to inhale clean sterile air at the head level. No filter is perfect, and no sterilization unit, therefore the enclosure has to deal with exhaust gas, and remove into the atmosphere safely. The work to keep people inside safe is done by both the enclosure that may provide vacuum lines to collect the exhaled air, and by the people who will use correctly the infrastructure. The system is designed for smart communities for everybody to wear for about 3 weeks when a covid-19 or other virus infection occurs to suppress its multiplication rate, without perturbation in their activity and then returning to normality.']"
            ]
          },
          "metadata": {
            "tags": []
          },
          "execution_count": 9
        }
      ]
    },
    {
      "cell_type": "markdown",
      "metadata": {
        "id": "sxRfhEjfJQ-m"
      },
      "source": [
        "## Optional\n",
        "Here you can add your own idea for a patent abstract and see where it falls within the landscape"
      ]
    },
    {
      "cell_type": "code",
      "metadata": {
        "id": "qPFp1GcOJZXa"
      },
      "source": [
        "#enter text below\n",
        "your_patent = \"Enter your patent here\"\n",
        "abstracts_text.append(your_patent)"
      ],
      "execution_count": null,
      "outputs": []
    },
    {
      "cell_type": "markdown",
      "metadata": {
        "id": "_cc7KiGe6rVZ"
      },
      "source": [
        "# Import BERT Model and Encode Messages\n",
        "Hugging face has [several pretrained BERT models](https://huggingface.co/models). You can use one trained on patents for general use. In our case, one on biomedical data might be more applicable. It is easy to import the different models, so find one that seems to work best for you"
      ]
    },
    {
      "cell_type": "code",
      "metadata": {
        "id": "VdJm5uFeVTP1"
      },
      "source": [
        "import tensorflow as tf"
      ],
      "execution_count": null,
      "outputs": []
    },
    {
      "cell_type": "code",
      "metadata": {
        "id": "vAPk5XPUVkYh",
        "colab": {
          "base_uri": "https://localhost:8080/"
        },
        "outputId": "0d3a5cd8-464f-4444-8318-2fe9051385a4"
      },
      "source": [
        "! pip install -Uq sentence-transformers"
      ],
      "execution_count": null,
      "outputs": [
        {
          "output_type": "stream",
          "text": [
            "\u001b[K     |████████████████████████████████| 92kB 6.5MB/s \n",
            "\u001b[K     |████████████████████████████████| 2.5MB 25.9MB/s \n",
            "\u001b[K     |████████████████████████████████| 1.2MB 43.0MB/s \n",
            "\u001b[K     |████████████████████████████████| 3.3MB 51.2MB/s \n",
            "\u001b[K     |████████████████████████████████| 901kB 39.7MB/s \n",
            "\u001b[?25h  Building wheel for sentence-transformers (setup.py) ... \u001b[?25l\u001b[?25hdone\n",
            "\u001b[31mERROR: transformers 4.8.2 has requirement huggingface-hub==0.0.12, but you'll have huggingface-hub 0.0.13 which is incompatible.\u001b[0m\n"
          ],
          "name": "stdout"
        }
      ]
    },
    {
      "cell_type": "code",
      "metadata": {
        "id": "Kk5hgF8dVWcy",
        "colab": {
          "base_uri": "https://localhost:8080/",
          "height": 399,
          "referenced_widgets": [
            "bec37ec32899464a832f19f2752a2fc9",
            "50dd176d63cc4aba973a8ab516ca3a74",
            "f00d6a8894bd4f2aa074ff1467b6591e",
            "40cc0fd00ec144db83e0b8fa4b6a108b",
            "9bc230bc5ea44fe48c8981ee7a658c35",
            "ea5fdef45fd945d7afe50fceed674566",
            "831b70d5f7424a8aa59afc5c7a02d391",
            "a178f1e590cc48ae88cb8d84ff0c3dd6",
            "3bf4014a1dcc45998f8be7efaf49636b",
            "7762ba6a8fc040e9bdaa10bfff4d642a",
            "75cdd55db2d94e3dbd1acf312ed1addd",
            "7cd8be2ea1ae46f195856bffc09480c3",
            "4459e174594c4a6db9d26a85e7685fa4",
            "dc71b8756da54b85a926c1fe2646e56d",
            "9d6bf54eb1bc4eeda6a98073aca06f38",
            "c88d10923b614a0fbe63adca1ceb8425",
            "4c8b90b2cce04000ad9e559a1244e470",
            "8b1202ec2ae045d385b714906f921595",
            "b104b201e59b4a92b046db8751eeb793",
            "1b0ba87ddfb946548e04fc6199b498d3",
            "591d593a03c54b1981d439c93f5d33ff",
            "fa2bcea47759471e88d66cdddf97f1cf",
            "5a9e1cab0f4e45bf81c88bf76ae6ad86",
            "f21771f6a6a349a6a0d40ae058f21c92",
            "4bfb58e7a6f347f9886b1a0c5e5eccbb",
            "7bd6b68aaa40452b9cf34f87c3fa5eb5",
            "61b46f6a6da240d1928bb905e2a54ac6",
            "203b9b58f92744619942f406dea66435",
            "5f8b570ace9446009ced9d2a48ca5314",
            "872960bd6de54b75a70241ebb609dfcb",
            "0b4a8627a3c0451aa853d9f5ee77f611",
            "e2d089d87598420c8cf6463849a46231",
            "a7a69ba413214df0b15a003e54c972e3",
            "2dc1fc5a0dff44f7b083bde364bde8f8",
            "60341155efb845d4814a0de31c0f57b2",
            "97c1e15e41094c11b3c76a7b039c5ba8",
            "c10e35d4841b415bad5cb581b9edcc07",
            "f07edda5cf244298a588bbc436100924",
            "b38e6753aaf94e1a81422bf6f073d3a6",
            "ddd6a68d2fde4977b4f273b1f870ba3c",
            "cffca9fce39b4f4b98e3405e1cce0146",
            "d259d64eb56c4751892075fc7bf8e898",
            "25e90fb61fba40dd97c19fb1375adae3",
            "1fb0b83019ac43619d316e125a4d37d5",
            "9882d938d9fd44fd8954edb3037d2a8a",
            "e80f78f11bfa44e0b4aa36cab305fe26",
            "5e6075e623dc4ccfb8a002399639ba59",
            "a8fd8ad4eae1427eab1afdd3f2f159c7"
          ]
        },
        "outputId": "8c45d2ab-0ae1-4629-e7be-c72b899215db"
      },
      "source": [
        "import pandas as pd\n",
        "import scipy\n",
        "import numpy as np\n",
        "import sklearn\n",
        "from sentence_transformers import models, SentenceTransformer, util\n",
        "from sklearn.cluster import KMeans\n",
        "from sentence_transformers import util\n",
        "from sklearn.metrics.pairwise import cosine_similarity\n",
        "# choose a model relevant to this project\n",
        "# \"AI-Growth/PatentSBERTa is a great general patent BERT model\"\n",
        "# for this task, we're using a model trained on biomedical abstracts, which is relevant to our research\n",
        "model = SentenceTransformer('microsoft/BiomedNLP-PubMedBERT-base-uncased-abstract')"
      ],
      "execution_count": null,
      "outputs": [
        {
          "output_type": "display_data",
          "data": {
            "application/vnd.jupyter.widget-view+json": {
              "model_id": "bec37ec32899464a832f19f2752a2fc9",
              "version_minor": 0,
              "version_major": 2
            },
            "text/plain": [
              "HBox(children=(FloatProgress(value=0.0, description='Downloading', max=391.0, style=ProgressStyle(description_…"
            ]
          },
          "metadata": {
            "tags": []
          }
        },
        {
          "output_type": "stream",
          "text": [
            "\n"
          ],
          "name": "stdout"
        },
        {
          "output_type": "display_data",
          "data": {
            "application/vnd.jupyter.widget-view+json": {
              "model_id": "3bf4014a1dcc45998f8be7efaf49636b",
              "version_minor": 0,
              "version_major": 2
            },
            "text/plain": [
              "HBox(children=(FloatProgress(value=0.0, description='Downloading', max=1072.0, style=ProgressStyle(description…"
            ]
          },
          "metadata": {
            "tags": []
          }
        },
        {
          "output_type": "stream",
          "text": [
            "\n"
          ],
          "name": "stdout"
        },
        {
          "output_type": "display_data",
          "data": {
            "application/vnd.jupyter.widget-view+json": {
              "model_id": "4c8b90b2cce04000ad9e559a1244e470",
              "version_minor": 0,
              "version_major": 2
            },
            "text/plain": [
              "HBox(children=(FloatProgress(value=0.0, description='Downloading', max=1387.0, style=ProgressStyle(description…"
            ]
          },
          "metadata": {
            "tags": []
          }
        },
        {
          "output_type": "stream",
          "text": [
            "\n"
          ],
          "name": "stdout"
        },
        {
          "output_type": "display_data",
          "data": {
            "application/vnd.jupyter.widget-view+json": {
              "model_id": "4bfb58e7a6f347f9886b1a0c5e5eccbb",
              "version_minor": 0,
              "version_major": 2
            },
            "text/plain": [
              "HBox(children=(FloatProgress(value=0.0, description='Downloading', max=337.0, style=ProgressStyle(description_…"
            ]
          },
          "metadata": {
            "tags": []
          }
        },
        {
          "output_type": "stream",
          "text": [
            "\n"
          ],
          "name": "stdout"
        },
        {
          "output_type": "display_data",
          "data": {
            "application/vnd.jupyter.widget-view+json": {
              "model_id": "a7a69ba413214df0b15a003e54c972e3",
              "version_minor": 0,
              "version_major": 2
            },
            "text/plain": [
              "HBox(children=(FloatProgress(value=0.0, description='Downloading', max=440472042.0, style=ProgressStyle(descri…"
            ]
          },
          "metadata": {
            "tags": []
          }
        },
        {
          "output_type": "stream",
          "text": [
            "\n"
          ],
          "name": "stdout"
        },
        {
          "output_type": "display_data",
          "data": {
            "application/vnd.jupyter.widget-view+json": {
              "model_id": "cffca9fce39b4f4b98e3405e1cce0146",
              "version_minor": 0,
              "version_major": 2
            },
            "text/plain": [
              "HBox(children=(FloatProgress(value=0.0, description='Downloading', max=225062.0, style=ProgressStyle(descripti…"
            ]
          },
          "metadata": {
            "tags": []
          }
        },
        {
          "output_type": "stream",
          "text": [
            "WARNING:root:No sentence-transformers model found with name /root/.cache/torch/sentence_transformers/microsoft_BiomedNLP-PubMedBERT-base-uncased-abstract. Creating a new one with MEAN pooling.\n"
          ],
          "name": "stderr"
        },
        {
          "output_type": "stream",
          "text": [
            "\n"
          ],
          "name": "stdout"
        },
        {
          "output_type": "stream",
          "text": [
            "Some weights of the model checkpoint at /root/.cache/torch/sentence_transformers/microsoft_BiomedNLP-PubMedBERT-base-uncased-abstract were not used when initializing BertModel: ['cls.predictions.bias', 'cls.predictions.transform.dense.weight', 'cls.predictions.transform.dense.bias', 'cls.predictions.decoder.weight', 'cls.predictions.transform.LayerNorm.weight', 'cls.predictions.decoder.bias', 'cls.predictions.transform.LayerNorm.bias', 'cls.seq_relationship.weight', 'cls.seq_relationship.bias']\n",
            "- This IS expected if you are initializing BertModel from the checkpoint of a model trained on another task or with another architecture (e.g. initializing a BertForSequenceClassification model from a BertForPreTraining model).\n",
            "- This IS NOT expected if you are initializing BertModel from the checkpoint of a model that you expect to be exactly identical (initializing a BertForSequenceClassification model from a BertForSequenceClassification model).\n"
          ],
          "name": "stderr"
        }
      ]
    },
    {
      "cell_type": "markdown",
      "metadata": {
        "id": "SjG6ZeXW7gUc"
      },
      "source": [
        "#Create Clusters"
      ]
    },
    {
      "cell_type": "code",
      "metadata": {
        "id": "A2H6yFCV6Gcp",
        "colab": {
          "base_uri": "https://localhost:8080/"
        },
        "outputId": "26d5ac32-38f5-4429-9308-75f6940583ca"
      },
      "source": [
        "#change number below to adjust amount of clusters\n",
        "clusters = 5\n",
        "sentence_embeddings = model.encode(abstracts_text)\n",
        "kmeans = KMeans(n_clusters=clusters).fit(sentence_embeddings)\n",
        "kmeans.labels_"
      ],
      "execution_count": null,
      "outputs": [
        {
          "output_type": "execute_result",
          "data": {
            "text/plain": [
              "array([3, 4, 4, 4, 4, 4, 1, 3, 3, 1, 4, 3, 4, 3, 3, 4, 4, 2, 2, 3, 3, 3,\n",
              "       1, 1, 3, 3, 3, 3, 1, 3, 3, 1, 3, 4, 3, 3, 4, 4, 4, 3, 3, 1, 1, 1,\n",
              "       3, 3, 1, 4, 3, 0, 0, 0, 0, 0, 0, 0, 0, 1, 2, 2, 3, 4, 0, 0, 0, 0,\n",
              "       2, 2, 2, 2, 2, 3, 3, 1, 3, 3, 3, 3, 1, 1, 1, 3, 1, 1, 1, 4, 1, 1,\n",
              "       3, 2, 2, 1, 1, 1, 4, 1, 1, 1, 3, 3, 1, 1, 1, 1, 4, 1, 3, 3, 1, 3,\n",
              "       1], dtype=int32)"
            ]
          },
          "metadata": {
            "tags": []
          },
          "execution_count": 13
        }
      ]
    },
    {
      "cell_type": "code",
      "metadata": {
        "id": "SA6OTz7RF1fp"
      },
      "source": [
        "combined_dataset = []\n",
        "# use this if using an original patent\n",
        "for i in range(len(abstracts_text)):\n",
        "  if i == len(abstracts_text)-1:\n",
        "    label = kmeans.labels_[i]\n",
        "    abstract = abstracts_text[i]\n",
        "    source = \"patent original\"\n",
        "    instance = (abstract, source, label)\n",
        "    combined_dataset.append(instance)\n",
        "  else:\n",
        "    label = kmeans.labels_[i]\n",
        "    abstract = abstracts_text[i]\n",
        "    source = \"patent\"\n",
        "    instance = (abstract, source, label)\n",
        "    combined_dataset.append(instance)"
      ],
      "execution_count": null,
      "outputs": []
    },
    {
      "cell_type": "code",
      "metadata": {
        "id": "ZLfoHM52IIhc"
      },
      "source": [
        "combined_dataset = []\n",
        "# use this if not using an original patent\n",
        "for i in range(len(abstracts_text)):\n",
        "  label = kmeans.labels_[i]\n",
        "  abstract = abstracts_text[i]\n",
        "  source = \"patent\"\n",
        "  instance = (abstract, source, label)\n",
        "  combined_dataset.append(instance)"
      ],
      "execution_count": null,
      "outputs": []
    },
    {
      "cell_type": "markdown",
      "metadata": {
        "id": "LDp8gRqR88oy"
      },
      "source": [
        "# Import New Research and Apply to Existing Clusters\n",
        "Google has many [public datasets](https://cloud.google.com/bigquery/public-data). Feel free to find one relevant to the patents you are landscaping! In this demo, we are using biomedical research on covid-19"
      ]
    },
    {
      "cell_type": "code",
      "metadata": {
        "id": "eOXgG73LDKJJ"
      },
      "source": [
        "#can replace arxiv with other research database\n",
        "research_df = client.query('''\n",
        "  SELECT\n",
        "    *\n",
        "  FROM\n",
        "    `bigquery-public-data.breathe.arxiv`\n",
        "''').to_dataframe()"
      ],
      "execution_count": null,
      "outputs": []
    },
    {
      "cell_type": "code",
      "metadata": {
        "id": "MYfKP_UaA2am"
      },
      "source": [
        "research_abstracts = research_df[\"abstract\"]\n",
        "research_abstracts_clean = []\n",
        "#remove \\n that is in the text\n",
        "for i in research_abstracts:\n",
        "  clean = i.replace('\\n',' ')\n",
        "  research_abstracts_clean.append(clean)"
      ],
      "execution_count": null,
      "outputs": []
    },
    {
      "cell_type": "code",
      "metadata": {
        "id": "JHaEWZVq8WC5"
      },
      "source": [
        "#research_sample = research_abstracts_clean[1:10]\n",
        "research_embeddings = model.encode(research_abstracts_clean)\n",
        "research_labels = kmeans.predict(research_embeddings)"
      ],
      "execution_count": null,
      "outputs": []
    },
    {
      "cell_type": "code",
      "metadata": {
        "id": "ZvIOjzofGlTs"
      },
      "source": [
        "for i in range(len(research_abstracts_clean)):\n",
        "  label = research_labels[i]\n",
        "  abstract = research_abstracts_clean[i]\n",
        "  source = \"research\"\n",
        "  instance = (abstract, source, label)\n",
        "  combined_dataset.append(instance)"
      ],
      "execution_count": null,
      "outputs": []
    },
    {
      "cell_type": "markdown",
      "metadata": {
        "id": "jpKlZzgvHNIP"
      },
      "source": [
        "# Create combined dataset"
      ]
    },
    {
      "cell_type": "code",
      "metadata": {
        "colab": {
          "base_uri": "https://localhost:8080/",
          "height": 204
        },
        "id": "F2ySSF9RHPM6",
        "outputId": "6bff8520-de58-4fa9-b174-ffedd575fb01"
      },
      "source": [
        "combined_df = pd.DataFrame(combined_dataset, columns =['Abstract', 'Source', 'Label'])\n",
        "combined_df.head()"
      ],
      "execution_count": null,
      "outputs": [
        {
          "output_type": "execute_result",
          "data": {
            "text/html": [
              "<div>\n",
              "<style scoped>\n",
              "    .dataframe tbody tr th:only-of-type {\n",
              "        vertical-align: middle;\n",
              "    }\n",
              "\n",
              "    .dataframe tbody tr th {\n",
              "        vertical-align: top;\n",
              "    }\n",
              "\n",
              "    .dataframe thead th {\n",
              "        text-align: right;\n",
              "    }\n",
              "</style>\n",
              "<table border=\"1\" class=\"dataframe\">\n",
              "  <thead>\n",
              "    <tr style=\"text-align: right;\">\n",
              "      <th></th>\n",
              "      <th>Abstract</th>\n",
              "      <th>Source</th>\n",
              "      <th>Label</th>\n",
              "    </tr>\n",
              "  </thead>\n",
              "  <tbody>\n",
              "    <tr>\n",
              "      <th>0</th>\n",
              "      <td>A personal protective device (PPE) comprising ...</td>\n",
              "      <td>patent</td>\n",
              "      <td>3</td>\n",
              "    </tr>\n",
              "    <tr>\n",
              "      <th>1</th>\n",
              "      <td>The present invention provides a method and ap...</td>\n",
              "      <td>patent</td>\n",
              "      <td>4</td>\n",
              "    </tr>\n",
              "    <tr>\n",
              "      <th>2</th>\n",
              "      <td>A wearable device for spacing awareness includ...</td>\n",
              "      <td>patent</td>\n",
              "      <td>4</td>\n",
              "    </tr>\n",
              "    <tr>\n",
              "      <th>3</th>\n",
              "      <td>A bandage with a center that elevates over an ...</td>\n",
              "      <td>patent</td>\n",
              "      <td>4</td>\n",
              "    </tr>\n",
              "    <tr>\n",
              "      <th>4</th>\n",
              "      <td>COVID-19 is a large virus with remarkable resi...</td>\n",
              "      <td>patent</td>\n",
              "      <td>4</td>\n",
              "    </tr>\n",
              "  </tbody>\n",
              "</table>\n",
              "</div>"
            ],
            "text/plain": [
              "                                            Abstract  Source  Label\n",
              "0  A personal protective device (PPE) comprising ...  patent      3\n",
              "1  The present invention provides a method and ap...  patent      4\n",
              "2  A wearable device for spacing awareness includ...  patent      4\n",
              "3  A bandage with a center that elevates over an ...  patent      4\n",
              "4  COVID-19 is a large virus with remarkable resi...  patent      4"
            ]
          },
          "metadata": {
            "tags": []
          },
          "execution_count": 19
        }
      ]
    },
    {
      "cell_type": "code",
      "metadata": {
        "colab": {
          "base_uri": "https://localhost:8080/"
        },
        "id": "rziWzsDNMiLs",
        "outputId": "0579b0d9-7564-424a-c575-58d3d91eca26"
      },
      "source": [
        "combined_df[\"Source\"].value_counts()"
      ],
      "execution_count": null,
      "outputs": [
        {
          "output_type": "execute_result",
          "data": {
            "text/plain": [
              "patent      111\n",
              "research     71\n",
              "Name: Source, dtype: int64"
            ]
          },
          "metadata": {
            "tags": []
          },
          "execution_count": 20
        }
      ]
    },
    {
      "cell_type": "markdown",
      "metadata": {
        "id": "dqy16kl6H5IO"
      },
      "source": [
        "#Visualize Results"
      ]
    },
    {
      "cell_type": "code",
      "metadata": {
        "colab": {
          "base_uri": "https://localhost:8080/",
          "height": 276
        },
        "id": "MwPsely8H6s1",
        "outputId": "5415039d-1594-4707-a72e-2b28d18e9829"
      },
      "source": [
        "import matplotlib\n",
        "from matplotlib import pylab as plt\n",
        "pd.value_counts(combined_df['Label']).plot.bar()\n",
        "plt.ylabel('Count')\n",
        "plt.xlabel('Cluster Label')\n",
        "plt.show()"
      ],
      "execution_count": null,
      "outputs": [
        {
          "output_type": "display_data",
          "data": {
            "image/png": "[encoded data removed]",
            "text/plain": [
              "<Figure size 432x288 with 1 Axes>"
            ]
          },
          "metadata": {
            "tags": [],
            "needs_background": "light"
          }
        }
      ]
    },
    {
      "cell_type": "markdown",
      "metadata": {
        "id": "8JYUn_clE6DA"
      },
      "source": [
        "# Download Created Dataframe"
      ]
    },
    {
      "cell_type": "code",
      "metadata": {
        "colab": {
          "base_uri": "https://localhost:8080/",
          "height": 17
        },
        "id": "4rI9SmxaEyXt",
        "outputId": "071e5f2e-52d8-4fc5-e00b-8c4a058a57e0"
      },
      "source": [
        "from google.colab import files\n",
        "\n",
        "combined_df.to_csv('patent_and_research_abstracts.csv')\n",
        "files.download('patent_and_research_abstracts.csv')"
      ],
      "execution_count": null,
      "outputs": [
        {
          "output_type": "display_data",
          "data": {
            "application/javascript": [
              "\n",
              "    async function download(id, filename, size) {\n",
              "      if (!google.colab.kernel.accessAllowed) {\n",
              "        return;\n",
              "      }\n",
              "      const div = document.createElement('div');\n",
              "      const label = document.createElement('label');\n",
              "      label.textContent = `Downloading \"${filename}\": `;\n",
              "      div.appendChild(label);\n",
              "      const progress = document.createElement('progress');\n",
              "      progress.max = size;\n",
              "      div.appendChild(progress);\n",
              "      document.body.appendChild(div);\n",
              "\n",
              "      const buffers = [];\n",
              "      let downloaded = 0;\n",
              "\n",
              "      const channel = await google.colab.kernel.comms.open(id);\n",
              "      // Send a message to notify the kernel that we're ready.\n",
              "      channel.send({})\n",
              "\n",
              "      for await (const message of channel.messages) {\n",
              "        // Send a message to notify the kernel that we're ready.\n",
              "        channel.send({})\n",
              "        if (message.buffers) {\n",
              "          for (const buffer of message.buffers) {\n",
              "            buffers.push(buffer);\n",
              "            downloaded += buffer.byteLength;\n",
              "            progress.value = downloaded;\n",
              "          }\n",
              "        }\n",
              "      }\n",
              "      const blob = new Blob(buffers, {type: 'application/binary'});\n",
              "      const a = document.createElement('a');\n",
              "      a.href = window.URL.createObjectURL(blob);\n",
              "      a.download = filename;\n",
              "      div.appendChild(a);\n",
              "      a.click();\n",
              "      div.remove();\n",
              "    }\n",
              "  "
            ],
            "text/plain": [
              "<IPython.core.display.Javascript object>"
            ]
          },
          "metadata": {
            "tags": []
          }
        },
        {
          "output_type": "display_data",
          "data": {
            "application/javascript": [
              "download(\"download_eb4ddd8d-3fdc-407e-96a1-69bf1acd5225\", \"patent_and_research_abstracts.csv\", 161467)"
            ],
            "text/plain": [
              "<IPython.core.display.Javascript object>"
            ]
          },
          "metadata": {
            "tags": []
          }
        }
      ]
    }
  ]
}